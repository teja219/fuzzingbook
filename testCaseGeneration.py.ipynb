{
 "cells": [
  {
   "cell_type": "markdown",
   "source": [
    "Symbolic execution\n",
    "1. Parse the code into a DAG\n",
    "2. Collect all the conditions in every path\n",
    "3. Solve it using Z3"
   ],
   "metadata": {
    "collapsed": false
   }
  },
  {
   "cell_type": "code",
   "execution_count": 4,
   "outputs": [],
   "source": [],
   "metadata": {
    "collapsed": false
   }
  },
  {
   "cell_type": "code",
   "execution_count": 5,
   "outputs": [],
   "source": [
    "def getMaxValue(a,b,c):\n",
    "    a = 1\n",
    "    b = 3\n",
    "    c = 4\n",
    "    a = a+1\n",
    "    if b*b>c*c:\n",
    "        print(\"Hello\",\"World\")\n",
    "    else:\n",
    "        print(\"bla\")\n",
    "    z1 = 2"
   ],
   "metadata": {
    "collapsed": false
   }
  },
  {
   "cell_type": "code",
   "execution_count": 5,
   "outputs": [],
   "source": [],
   "metadata": {
    "collapsed": false
   }
  },
  {
   "cell_type": "code",
   "execution_count": 6,
   "outputs": [
    {
     "name": "stdout",
     "output_type": "stream",
     "text": [
      "  2           0 LOAD_CONST               1 (1)\n",
      "              2 STORE_FAST               0 (a)\n",
      "\n",
      "  3           4 LOAD_CONST               2 (3)\n",
      "              6 STORE_FAST               1 (b)\n",
      "\n",
      "  4           8 LOAD_CONST               3 (4)\n",
      "             10 STORE_FAST               2 (c)\n",
      "\n",
      "  5          12 LOAD_FAST                0 (a)\n",
      "             14 LOAD_CONST               1 (1)\n",
      "             16 BINARY_ADD\n",
      "             18 STORE_FAST               0 (a)\n",
      "\n",
      "  6          20 LOAD_FAST                1 (b)\n",
      "             22 LOAD_FAST                1 (b)\n",
      "             24 BINARY_MULTIPLY\n",
      "             26 LOAD_FAST                2 (c)\n",
      "             28 LOAD_FAST                2 (c)\n",
      "             30 BINARY_MULTIPLY\n",
      "             32 COMPARE_OP               4 (>)\n",
      "             34 POP_JUMP_IF_FALSE       48\n",
      "\n",
      "  7          36 LOAD_GLOBAL              0 (print)\n",
      "             38 LOAD_CONST               4 ('Hello')\n",
      "             40 LOAD_CONST               5 ('World')\n",
      "             42 CALL_FUNCTION            2\n",
      "             44 POP_TOP\n",
      "             46 JUMP_FORWARD             8 (to 56)\n",
      "\n",
      "  9     >>   48 LOAD_GLOBAL              0 (print)\n",
      "             50 LOAD_CONST               6 ('bla')\n",
      "             52 CALL_FUNCTION            1\n",
      "             54 POP_TOP\n",
      "\n",
      " 10     >>   56 LOAD_CONST               7 (2)\n",
      "             58 STORE_FAST               3 (z1)\n",
      "             60 LOAD_CONST               0 (None)\n",
      "             62 RETURN_VALUE\n"
     ]
    }
   ],
   "source": [
    "import dis\n",
    "dis.dis(getMaxValue)"
   ],
   "metadata": {
    "collapsed": false
   }
  },
  {
   "cell_type": "code",
   "execution_count": 7,
   "outputs": [],
   "source": [
    "z = dis.Bytecode(getMaxValue)"
   ],
   "metadata": {
    "collapsed": false
   }
  },
  {
   "cell_type": "code",
   "execution_count": 8,
   "outputs": [
    {
     "name": "stdout",
     "output_type": "stream",
     "text": [
      "Bytecode(<function getMaxValue at 0x10a23d550>)\n"
     ]
    }
   ],
   "source": [
    "print(z)"
   ],
   "metadata": {
    "collapsed": false
   }
  },
  {
   "cell_type": "code",
   "execution_count": 9,
   "outputs": [
    {
     "name": "stdout",
     "output_type": "stream",
     "text": [
      "0 LOAD_CONST 1 1 False\n",
      "2 STORE_FAST 0 a False\n",
      "4 LOAD_CONST 2 3 False\n",
      "6 STORE_FAST 1 b False\n",
      "8 LOAD_CONST 3 4 False\n",
      "10 STORE_FAST 2 c False\n",
      "12 LOAD_FAST 0 a False\n",
      "14 LOAD_CONST 1 1 False\n",
      "16 BINARY_ADD None None False\n",
      "18 STORE_FAST 0 a False\n",
      "20 LOAD_FAST 1 b False\n",
      "22 LOAD_FAST 1 b False\n",
      "24 BINARY_MULTIPLY None None False\n",
      "26 LOAD_FAST 2 c False\n",
      "28 LOAD_FAST 2 c False\n",
      "30 BINARY_MULTIPLY None None False\n",
      "32 COMPARE_OP 4 > False\n",
      "34 POP_JUMP_IF_FALSE 48 48 False\n",
      "36 LOAD_GLOBAL 0 print False\n",
      "38 LOAD_CONST 4 Hello False\n",
      "40 LOAD_CONST 5 World False\n",
      "42 CALL_FUNCTION 2 2 False\n",
      "44 POP_TOP None None False\n",
      "46 JUMP_FORWARD 8 56 False\n",
      "48 LOAD_GLOBAL 0 print True\n",
      "50 LOAD_CONST 6 bla False\n",
      "52 CALL_FUNCTION 1 1 False\n",
      "54 POP_TOP None None False\n",
      "56 LOAD_CONST 7 2 True\n",
      "58 STORE_FAST 3 z1 False\n",
      "60 LOAD_CONST 0 None False\n",
      "62 RETURN_VALUE None None False\n",
      "[0, 36, 48, 56] [(36, 56), (0, 36), (0, 48), (36, 48)]\n"
     ]
    }
   ],
   "source": [
    "edges = []\n",
    "nodes = []\n",
    "prevInstructionIsJump = False\n",
    "for instr in z:\n",
    "    # Adding edges\n",
    "    if prevInstructionIsJump:\n",
    "        edges.append((nodes[-1],instr.offset))\n",
    "    if \"JUMP\" in instr.opname:\n",
    "        edges.append((nodes[-1],int(instr.argval)))\n",
    "    # Adding nodes\n",
    "    if instr.is_jump_target:\n",
    "        nodes.append(instr.offset)\n",
    "    if prevInstructionIsJump:\n",
    "        nodes.append(instr.offset)\n",
    "    if instr.offset == 0:\n",
    "        nodes.append(instr.offset)\n",
    "    print(instr.offset,instr.opname,instr.arg,instr.argval,instr.is_jump_target)\n",
    "    if \"JUMP\" in instr.opname:\n",
    "        prevInstructionIsJump = True\n",
    "    else:\n",
    "        prevInstructionIsJump = False\n",
    "\n",
    "nodes = list(set(nodes))\n",
    "nodes.sort()\n",
    "edges = list(set(edges))\n",
    "\n",
    "print(nodes,edges)"
   ],
   "metadata": {
    "collapsed": false
   }
  },
  {
   "cell_type": "code",
   "execution_count": 10,
   "outputs": [
    {
     "name": "stdout",
     "output_type": "stream",
     "text": [
      "  2           0 LOAD_CONST               1 (1)\n",
      "              2 STORE_FAST               0 (a)\n",
      "\n",
      "  3           4 LOAD_CONST               2 (3)\n",
      "              6 STORE_FAST               1 (b)\n",
      "\n",
      "  4           8 LOAD_CONST               3 (4)\n",
      "             10 STORE_FAST               2 (c)\n",
      "\n",
      "  5          12 LOAD_FAST                0 (a)\n",
      "             14 LOAD_CONST               1 (1)\n",
      "             16 BINARY_ADD\n",
      "             18 STORE_FAST               0 (a)\n",
      "\n",
      "  6          20 LOAD_FAST                1 (b)\n",
      "             22 LOAD_FAST                1 (b)\n",
      "             24 BINARY_MULTIPLY\n",
      "             26 LOAD_FAST                2 (c)\n",
      "             28 LOAD_FAST                2 (c)\n",
      "             30 BINARY_MULTIPLY\n",
      "             32 COMPARE_OP               4 (>)\n",
      "             34 POP_JUMP_IF_FALSE       48\n",
      "\n",
      "  7          36 LOAD_GLOBAL              0 (print)\n",
      "             38 LOAD_CONST               4 ('Hello')\n",
      "             40 LOAD_CONST               5 ('World')\n",
      "             42 CALL_FUNCTION            2\n",
      "             44 POP_TOP\n",
      "             46 JUMP_FORWARD             8 (to 56)\n",
      "\n",
      "  9     >>   48 LOAD_GLOBAL              0 (print)\n",
      "             50 LOAD_CONST               6 ('bla')\n",
      "             52 CALL_FUNCTION            1\n",
      "             54 POP_TOP\n",
      "\n",
      " 10     >>   56 LOAD_CONST               7 (2)\n",
      "             58 STORE_FAST               3 (z1)\n",
      "             60 LOAD_CONST               0 (None)\n",
      "             62 RETURN_VALUE\n"
     ]
    }
   ],
   "source": [
    "dis.dis(getMaxValue)"
   ],
   "metadata": {
    "collapsed": false
   }
  },
  {
   "cell_type": "code",
   "execution_count": 11,
   "outputs": [],
   "source": [
    "from dis import Instruction\n",
    "from typing import List\n",
    "import math\n",
    "class Node:\n",
    "    def __init__(self, nodeId_,instructions_: List[Instruction],children_: List['Node']=None):\n",
    "        if children_ is None:\n",
    "            children_ = []\n",
    "        self.children = children_\n",
    "        self.nodeId = nodeId_\n",
    "        self.instructions = instructions_\n",
    "\n",
    "nodeIdToGraphObjectMapping = {}\n",
    "for i in range(len(nodes)):\n",
    "    start = nodes[i]\n",
    "    # If i is the last node\n",
    "    if i+1==len(nodes):\n",
    "        end = math.inf\n",
    "    else:\n",
    "        end = nodes[i+1]\n",
    "    instructions = []\n",
    "    nodeId = start\n",
    "    for instr in z:\n",
    "        if start <= instr.offset < end:\n",
    "            instructions.append(instr)\n",
    "    nodeIdToGraphObjectMapping[nodeId] = Node(nodeId,instructions)\n",
    "\n",
    "for (nodeId1,nodeId2) in edges:\n",
    "    nodeIdToGraphObjectMapping[nodeId1].children.append(nodeIdToGraphObjectMapping[nodeId2])\n",
    "\n",
    "root = nodeIdToGraphObjectMapping[0]\n",
    "\n"
   ],
   "metadata": {
    "collapsed": false
   }
  },
  {
   "cell_type": "markdown",
   "source": [],
   "metadata": {
    "collapsed": false
   }
  },
  {
   "cell_type": "code",
   "execution_count": 12,
   "outputs": [
    {
     "data": {
      "image/svg+xml": "<?xml version=\"1.0\" encoding=\"UTF-8\" standalone=\"no\"?>\n<!DOCTYPE svg PUBLIC \"-//W3C//DTD SVG 1.1//EN\"\n \"http://www.w3.org/Graphics/SVG/1.1/DTD/svg11.dtd\">\n<!-- Generated by graphviz version 7.0.2 (20221119.0110)\n -->\n<!-- Pages: 1 -->\n<svg width=\"385pt\" height=\"188pt\"\n viewBox=\"0.00 0.00 384.97 188.00\" xmlns=\"http://www.w3.org/2000/svg\" xmlns:xlink=\"http://www.w3.org/1999/xlink\">\n<g id=\"graph0\" class=\"graph\" transform=\"scale(1 1) rotate(0) translate(4 184)\">\n<polygon fill=\"white\" stroke=\"none\" points=\"-4,4 -4,-184 380.97,-184 380.97,4 -4,4\"/>\n<!-- 0 -->\n<g id=\"node1\" class=\"node\">\n<title>0</title>\n<ellipse fill=\"none\" stroke=\"black\" cx=\"188.48\" cy=\"-162\" rx=\"188.47\" ry=\"18\"/>\n<text text-anchor=\"middle\" x=\"188.48\" y=\"-158.3\" font-family=\"Times,serif\" font-size=\"14.00\">0,2,4,6,8,10,12,14,16,18,20,22,24,26,28,30,32,34</text>\n</g>\n<!-- 36 -->\n<g id=\"node2\" class=\"node\">\n<title>36</title>\n<ellipse fill=\"none\" stroke=\"black\" cx=\"240.48\" cy=\"-90\" rx=\"75.29\" ry=\"18\"/>\n<text text-anchor=\"middle\" x=\"240.48\" y=\"-86.3\" font-family=\"Times,serif\" font-size=\"14.00\">36,38,40,42,44,46</text>\n</g>\n<!-- 0&#45;&gt;36 -->\n<g id=\"edge1\" class=\"edge\">\n<title>0&#45;&gt;36</title>\n<path fill=\"none\" stroke=\"black\" d=\"M201.34,-143.7C207.26,-135.73 214.41,-126.1 220.97,-117.26\"/>\n<polygon fill=\"black\" stroke=\"black\" points=\"223.72,-119.43 226.87,-109.32 218.1,-115.26 223.72,-119.43\"/>\n</g>\n<!-- 48 -->\n<g id=\"node3\" class=\"node\">\n<title>48</title>\n<ellipse fill=\"none\" stroke=\"black\" cx=\"137.48\" cy=\"-18\" rx=\"53.09\" ry=\"18\"/>\n<text text-anchor=\"middle\" x=\"137.48\" y=\"-14.3\" font-family=\"Times,serif\" font-size=\"14.00\">48,50,52,54</text>\n</g>\n<!-- 0&#45;&gt;48 -->\n<g id=\"edge2\" class=\"edge\">\n<title>0&#45;&gt;48</title>\n<path fill=\"none\" stroke=\"black\" d=\"M175.96,-143.62C169.3,-133.63 161.47,-120.59 156.48,-108 148.78,-88.54 143.97,-65.4 141.11,-47.59\"/>\n<polygon fill=\"black\" stroke=\"black\" points=\"144.58,-47.1 139.65,-37.72 137.65,-48.12 144.58,-47.1\"/>\n</g>\n<!-- 36&#45;&gt;48 -->\n<g id=\"edge4\" class=\"edge\">\n<title>36&#45;&gt;48</title>\n<path fill=\"none\" stroke=\"black\" d=\"M216.33,-72.59C202.48,-63.17 184.91,-51.23 169.87,-41.01\"/>\n<polygon fill=\"black\" stroke=\"black\" points=\"171.91,-38.17 161.67,-35.44 167.98,-43.95 171.91,-38.17\"/>\n</g>\n<!-- 56 -->\n<g id=\"node4\" class=\"node\">\n<title>56</title>\n<ellipse fill=\"none\" stroke=\"black\" cx=\"262.48\" cy=\"-18\" rx=\"53.09\" ry=\"18\"/>\n<text text-anchor=\"middle\" x=\"262.48\" y=\"-14.3\" font-family=\"Times,serif\" font-size=\"14.00\">56,58,60,62</text>\n</g>\n<!-- 36&#45;&gt;56 -->\n<g id=\"edge3\" class=\"edge\">\n<title>36&#45;&gt;56</title>\n<path fill=\"none\" stroke=\"black\" d=\"M245.92,-71.7C248.27,-64.24 251.07,-55.32 253.69,-46.97\"/>\n<polygon fill=\"black\" stroke=\"black\" points=\"256.99,-48.14 256.65,-37.55 250.32,-46.04 256.99,-48.14\"/>\n</g>\n</g>\n</svg>\n",
      "text/plain": "<graphviz.graphs.Digraph at 0x10a145160>"
     },
     "execution_count": 12,
     "metadata": {},
     "output_type": "execute_result"
    }
   ],
   "source": [
    "from graphviz import Digraph\n",
    "gra = Digraph()\n",
    "# print(nodeIdToGraphObjectMapping)\n",
    "# str(nodeIdToGraphObjectMapping[0].instructions\n",
    "for (nodeId,node) in nodeIdToGraphObjectMapping.items():\n",
    "    gra.node(str(nodeId),str(\",\".join([str(instr.offset) for instr in node.instructions])))\n",
    "for (nodeId,node) in nodeIdToGraphObjectMapping.items():\n",
    "    for child in node.children:\n",
    "        gra.edge(str(nodeId),str(child.nodeId))\n",
    "#\n",
    "gra"
   ],
   "metadata": {
    "collapsed": false
   }
  },
  {
   "cell_type": "code",
   "execution_count": 13,
   "outputs": [],
   "source": [
    "from collections import deque\n",
    "\n",
    "\n",
    "# def DFS(currentNode:Node,executionStack:deque,mapVersionedVariables,mapLatestVersionForVariable):\n",
    "#     for instr_ in currentNode.instructions:\n",
    "#         match str(instr_.opname):\n",
    "#             case \"LOAD_CONST\":\n",
    "#                 executionStack.append(instr.argval)\n",
    "#             case \"STORE_FAST\":\n",
    "#                 var = str(instr.argval)\n",
    "#                 if var in mapVersionedVariables:\n",
    "#\n",
    "#                 executionStack.pop()"
   ],
   "metadata": {
    "collapsed": false
   }
  },
  {
   "cell_type": "code",
   "execution_count": 13,
   "outputs": [],
   "source": [],
   "metadata": {
    "collapsed": false
   }
  },
  {
   "cell_type": "code",
   "execution_count": 13,
   "outputs": [],
   "source": [],
   "metadata": {
    "collapsed": false
   }
  }
 ],
 "metadata": {
  "kernelspec": {
   "display_name": "Python 3",
   "language": "python",
   "name": "python3"
  },
  "language_info": {
   "codemirror_mode": {
    "name": "ipython",
    "version": 2
   },
   "file_extension": ".py",
   "mimetype": "text/x-python",
   "name": "python",
   "nbconvert_exporter": "python",
   "pygments_lexer": "ipython2",
   "version": "2.7.6"
  }
 },
 "nbformat": 4,
 "nbformat_minor": 0
}
