{
 "cells": [
  {
   "cell_type": "markdown",
   "source": [
    "Symbolic execution\n",
    "1. Parse the code into a DAG\n",
    "2. Collect all the conditions in every path\n",
    "3. Solve it using Z3"
   ],
   "metadata": {
    "collapsed": false
   }
  },
  {
   "cell_type": "code",
   "execution_count": null,
   "outputs": [],
   "source": [],
   "metadata": {
    "collapsed": false
   }
  },
  {
   "cell_type": "code",
   "execution_count": 14,
   "outputs": [],
   "source": [
    "import z3 as z3\n",
    "import z3.z3\n",
    "\n",
    "\n",
    "def getMaxValue(a,b,c):\n",
    "    z_ = True\n",
    "    z1 = z_ and False\n",
    "    a = 1 - 3\n",
    "    b = 3 - a\n",
    "    c = 4\n",
    "    a = a+1\n",
    "    if b*b>c*c:\n",
    "        print(\"Hello\",\"World\")\n",
    "    else:\n",
    "        print(\"bla\")\n",
    "    z1 = 2"
   ],
   "metadata": {
    "collapsed": false
   }
  },
  {
   "cell_type": "code",
   "execution_count": 1,
   "outputs": [],
   "source": [],
   "metadata": {
    "collapsed": false
   }
  },
  {
   "cell_type": "code",
   "execution_count": 15,
   "outputs": [
    {
     "name": "stdout",
     "output_type": "stream",
     "text": [
      "  6           0 LOAD_CONST               1 (True)\n",
      "              2 STORE_FAST               3 (z_)\n",
      "\n",
      "  7           4 LOAD_FAST                3 (z_)\n",
      "              6 JUMP_IF_FALSE_OR_POP     5 (to 10)\n",
      "              8 LOAD_CONST               2 (False)\n",
      "        >>   10 STORE_FAST               4 (z1)\n",
      "\n",
      "  8          12 LOAD_CONST               3 (-2)\n",
      "             14 STORE_FAST               0 (a)\n",
      "\n",
      "  9          16 LOAD_CONST               4 (3)\n",
      "             18 LOAD_FAST                0 (a)\n",
      "             20 BINARY_SUBTRACT\n",
      "             22 STORE_FAST               1 (b)\n",
      "\n",
      " 10          24 LOAD_CONST               5 (4)\n",
      "             26 STORE_FAST               2 (c)\n",
      "\n",
      " 11          28 LOAD_FAST                0 (a)\n",
      "             30 LOAD_CONST               6 (1)\n",
      "             32 BINARY_ADD\n",
      "             34 STORE_FAST               0 (a)\n",
      "\n",
      " 12          36 LOAD_FAST                1 (b)\n",
      "             38 LOAD_FAST                1 (b)\n",
      "             40 BINARY_MULTIPLY\n",
      "             42 LOAD_FAST                2 (c)\n",
      "             44 LOAD_FAST                2 (c)\n",
      "             46 BINARY_MULTIPLY\n",
      "             48 COMPARE_OP               4 (>)\n",
      "             50 POP_JUMP_IF_FALSE       35 (to 70)\n",
      "\n",
      " 13          52 LOAD_GLOBAL              0 (print)\n",
      "             54 LOAD_CONST               7 ('Hello')\n",
      "             56 LOAD_CONST               8 ('World')\n",
      "             58 CALL_FUNCTION            2\n",
      "             60 POP_TOP\n",
      "\n",
      " 16          62 LOAD_CONST              10 (2)\n",
      "             64 STORE_FAST               4 (z1)\n",
      "             66 LOAD_CONST               0 (None)\n",
      "             68 RETURN_VALUE\n",
      "\n",
      " 15     >>   70 LOAD_GLOBAL              0 (print)\n",
      "             72 LOAD_CONST               9 ('bla')\n",
      "             74 CALL_FUNCTION            1\n",
      "             76 POP_TOP\n",
      "\n",
      " 16          78 LOAD_CONST              10 (2)\n",
      "             80 STORE_FAST               4 (z1)\n",
      "             82 LOAD_CONST               0 (None)\n",
      "             84 RETURN_VALUE\n"
     ]
    }
   ],
   "source": [
    "import dis\n",
    "dis.dis(getMaxValue)"
   ],
   "metadata": {
    "collapsed": false
   }
  },
  {
   "cell_type": "code",
   "execution_count": 3,
   "outputs": [],
   "source": [
    "z = dis.Bytecode(getMaxValue)"
   ],
   "metadata": {
    "collapsed": false
   }
  },
  {
   "cell_type": "code",
   "execution_count": 31,
   "outputs": [
    {
     "data": {
      "text/plain": "a@1 + 1",
      "text/html": "a@1 + 1"
     },
     "execution_count": 31,
     "metadata": {},
     "output_type": "execute_result"
    }
   ],
   "source": [
    "from z3 import z3\n",
    "for instr in z:\n",
    "    xx = instr\n",
    "    break\n",
    "\n",
    "x1 = z3.Int('x1@0')\n",
    "x2 = z3.Int('x2@0')\n",
    "x3 = x2 + x1\n",
    "x4 = x3 + 1\n",
    "x5 = z3.Real('x5@0')\n",
    "\n",
    "s = z3.Solver()\n",
    "s1 = z3.Solver()\n",
    "s.translate(z3.main_ctx())\n",
    "\n",
    "# Mapping between variable name and the corresponding z3 instance\n",
    "# Mapping between variable name and latest version\n",
    "# Accumulate all the s\n",
    "from collections import deque\n",
    "d = deque()\n",
    "d.append(1)\n",
    "d.append(2)\n",
    "\n",
    "\n",
    "def createBinaryOperationResult(variableType_: z3.ExprRef,\n",
    "                                isInt: bool,\n",
    "                                variableName: str,\n",
    "                                mapVariableToItsLatestVersion: map\n",
    "                                ):\n",
    "    if variableName in mapVariableToItsLatestVersion:\n",
    "        #Create a new version\n",
    "        mapVariableToItsLatestVersion[variableName] += 1\n",
    "    else:\n",
    "        #First version\n",
    "        mapVariableToItsLatestVersion[variableName] = 1\n",
    "    match variableType_:\n",
    "        case z3.ArithRef:\n",
    "            if isInt:\n",
    "                res = z3.Int(variableName+\"@\"+str(mapVariableToItsLatestVersion[variableName]))\n",
    "            else:\n",
    "                res = z3.Real(variableName+\"@\"+str(mapVariableToItsLatestVersion[variableName]))\n",
    "        case z3.BoolRef:\n",
    "            res = z3.Bool(variableName+\"@\"+str(mapVariableToItsLatestVersion[variableName]))\n",
    "    return res\n",
    "\n",
    "\n",
    "def handleBinaryInstruction(operationName: str,\n",
    "                            variableName: str,\n",
    "                            operandsStack: deque,\n",
    "                            mapVariableToLatestVersionId: map,\n",
    "                            mapVariableNameToLatestZ3Ref: map,\n",
    "                            solver_: z3.Solver):\n",
    "    operand1 = operandsStack.pop()\n",
    "    operand2 = operandsStack.pop()\n",
    "\n",
    "    #z3 supports Integers, Reals and Bools\n",
    "    match operationName:\n",
    "        case \"BINARY_ADD\":\n",
    "            variableType = type(operand1+operand2)\n",
    "            isInt = False\n",
    "            if variableType == z3.ArithRef:\n",
    "                temp = operand1 + operand2\n",
    "                isInt = temp.is_int()\n",
    "            res = createBinaryOperationResult(variableType,isInt,variableName,mapVariableToLatestVersionId)\n",
    "            solver_.add(res == operand1 + operand2)\n",
    "        case \"BINARY_SUBTRACT\":\n",
    "            variableType = type(operand1-operand2)\n",
    "            isInt = False\n",
    "            if variableType == z3.ArithRef:\n",
    "                temp = operand1 - operand2\n",
    "                isInt = temp.is_int()\n",
    "            res = createBinaryOperationResult(variableType,isInt,variableName,mapVariableToLatestVersionId)\n",
    "            solver_.add(res == operand1 - operand2)\n",
    "        case \"BINARY_MULTIPLY\":\n",
    "            variableType = type(operand1*operand2)\n",
    "            isInt = False\n",
    "            if variableType == z3.ArithRef:\n",
    "                isInt = (z3.ArithRef(operand1 * operand2)).is_int()\n",
    "            res = createBinaryOperationResult(variableType,isInt,variableName,mapVariableToLatestVersionId)\n",
    "            solver_.add(res == operand1 * operand2)\n",
    "\n",
    "    mapVariableNameToLatestZ3Ref[variableName] = res\n",
    "    operandsStack.append(res)\n",
    "    return\n",
    "\n",
    "# operation = instr_.opname\n",
    "# variableName = str(instr.argval)\n",
    "operand1 = z3.Int('a@1')\n",
    "operand2 = z3.Int('b@1')\n",
    "\n",
    "operandsStack = deque()\n",
    "operandsStack.append(operand1)\n",
    "operandsStack.append(operand2)\n",
    "\n",
    "operationName = \"BINARY_ADD\"\n",
    "mapVariableToLatestVersionId = {\"a\":1,\"b\":1}\n",
    "mapVariableToLatestZ3Ref = {\"a\":operand1,\"b\":operand2}\n",
    "\n",
    "variableName = \"c\"\n",
    "s = z3.Solver()\n",
    "# handleBinaryInstruction(operationName,variableName,operandsStack,mapVariableToLatestVersionId,mapVariableToLatestZ3Ref,s)\n",
    "\n",
    "\n",
    "operand3 = operand1 + 1\n",
    "operand3"
   ],
   "metadata": {
    "collapsed": false
   }
  },
  {
   "cell_type": "code",
   "execution_count": 10,
   "outputs": [
    {
     "name": "stdout",
     "output_type": "stream",
     "text": [
      "0 LOAD_CONST 1 True False\n",
      "2 STORE_FAST 3 z_ False\n",
      "4 LOAD_FAST 3 z_ False\n",
      "6 JUMP_IF_FALSE_OR_POP 5 10 False\n",
      "8 LOAD_CONST 2 False False\n",
      "10 STORE_FAST 4 z1 True\n",
      "12 LOAD_CONST 3 1 False\n",
      "14 STORE_FAST 0 a False\n",
      "16 LOAD_CONST 4 3 False\n",
      "18 STORE_FAST 1 b False\n",
      "20 LOAD_CONST 5 4 False\n",
      "22 STORE_FAST 2 c False\n",
      "24 LOAD_FAST 0 a False\n",
      "26 LOAD_CONST 3 1 False\n",
      "28 BINARY_ADD None None False\n",
      "30 STORE_FAST 0 a False\n",
      "32 LOAD_FAST 1 b False\n",
      "34 LOAD_FAST 1 b False\n",
      "36 BINARY_MULTIPLY None None False\n",
      "38 LOAD_FAST 2 c False\n",
      "40 LOAD_FAST 2 c False\n",
      "42 BINARY_MULTIPLY None None False\n",
      "44 COMPARE_OP 4 > False\n",
      "46 POP_JUMP_IF_FALSE 33 66 False\n",
      "48 LOAD_GLOBAL 0 print False\n",
      "50 LOAD_CONST 6 Hello False\n",
      "52 LOAD_CONST 7 World False\n",
      "54 CALL_FUNCTION 2 2 False\n",
      "56 POP_TOP None None False\n",
      "58 LOAD_CONST 9 2 False\n",
      "60 STORE_FAST 4 z1 False\n",
      "62 LOAD_CONST 0 None False\n",
      "64 RETURN_VALUE None None False\n",
      "66 LOAD_GLOBAL 0 print True\n",
      "68 LOAD_CONST 8 bla False\n",
      "70 CALL_FUNCTION 1 1 False\n",
      "72 POP_TOP None None False\n",
      "74 LOAD_CONST 9 2 False\n",
      "76 STORE_FAST 4 z1 False\n",
      "78 LOAD_CONST 0 None False\n",
      "80 RETURN_VALUE None None False\n",
      "[0, 8, 10, 48, 66] [(10, 66), (0, 8), (0, 10), (10, 48)]\n"
     ]
    }
   ],
   "source": [
    "edges = []\n",
    "nodes = []\n",
    "prevInstructionIsJump = False\n",
    "for instr in z:\n",
    "    # Adding edges\n",
    "    if prevInstructionIsJump:\n",
    "        edges.append((nodes[-1],instr.offset))\n",
    "    if \"JUMP\" in instr.opname:\n",
    "        edges.append((nodes[-1],int(instr.argval)))\n",
    "    # Adding nodes\n",
    "    if instr.is_jump_target:\n",
    "        nodes.append(instr.offset)\n",
    "    if prevInstructionIsJump:\n",
    "        nodes.append(instr.offset)\n",
    "    if instr.offset == 0:\n",
    "        nodes.append(instr.offset)\n",
    "    print(instr.offset,instr.opname,instr.arg,instr.argval,instr.is_jump_target)\n",
    "    if \"JUMP\" in instr.opname:\n",
    "        prevInstructionIsJump = True\n",
    "    else:\n",
    "        prevInstructionIsJump = False\n",
    "\n",
    "nodes = list(set(nodes))\n",
    "nodes.sort()\n",
    "edges = list(set(edges))\n",
    "\n",
    "print(nodes,edges)"
   ],
   "metadata": {
    "collapsed": false
   }
  },
  {
   "cell_type": "markdown",
   "source": [],
   "metadata": {
    "collapsed": false
   }
  },
  {
   "cell_type": "code",
   "execution_count": null,
   "outputs": [],
   "source": [
    "dis.dis(getMaxValue)"
   ],
   "metadata": {
    "collapsed": false
   }
  },
  {
   "cell_type": "code",
   "execution_count": 9,
   "outputs": [
    {
     "ename": "NameError",
     "evalue": "name 'nodes' is not defined",
     "output_type": "error",
     "traceback": [
      "\u001B[0;31m---------------------------------------------------------------------------\u001B[0m",
      "\u001B[0;31mNameError\u001B[0m                                 Traceback (most recent call last)",
      "Cell \u001B[0;32mIn[9], line 13\u001B[0m\n\u001B[1;32m     10\u001B[0m         \u001B[38;5;28mself\u001B[39m\u001B[38;5;241m.\u001B[39minstructions \u001B[38;5;241m=\u001B[39m instructions_\n\u001B[1;32m     12\u001B[0m nodeIdToGraphObjectMapping \u001B[38;5;241m=\u001B[39m {}\n\u001B[0;32m---> 13\u001B[0m \u001B[38;5;28;01mfor\u001B[39;00m i \u001B[38;5;129;01min\u001B[39;00m \u001B[38;5;28mrange\u001B[39m(\u001B[38;5;28mlen\u001B[39m(\u001B[43mnodes\u001B[49m)):\n\u001B[1;32m     14\u001B[0m     start \u001B[38;5;241m=\u001B[39m nodes[i]\n\u001B[1;32m     15\u001B[0m     \u001B[38;5;66;03m# If i is the last node\u001B[39;00m\n",
      "\u001B[0;31mNameError\u001B[0m: name 'nodes' is not defined"
     ]
    }
   ],
   "source": [
    "from dis import Instruction\n",
    "from typing import List\n",
    "import math\n",
    "class Node:\n",
    "    def __init__(self, nodeId_,instructions_: List[Instruction],children_: List['Node']=None):\n",
    "        if children_ is None:\n",
    "            children_ = []\n",
    "        self.children = children_\n",
    "        self.nodeId = nodeId_\n",
    "        self.instructions = instructions_\n",
    "\n",
    "nodeIdToGraphObjectMapping = {}\n",
    "for i in range(len(nodes)):\n",
    "    start = nodes[i]\n",
    "    # If i is the last node\n",
    "    if i+1==len(nodes):\n",
    "        end = math.inf\n",
    "    else:\n",
    "        end = nodes[i+1]\n",
    "    instructions = []\n",
    "    nodeId = start\n",
    "    for instr in z:\n",
    "        if start <= instr.offset < end:\n",
    "            instructions.append(instr)\n",
    "    nodeIdToGraphObjectMapping[nodeId] = Node(nodeId,instructions)\n",
    "\n",
    "for (nodeId1,nodeId2) in edges:\n",
    "    nodeIdToGraphObjectMapping[nodeId1].children.append(nodeIdToGraphObjectMapping[nodeId2])\n",
    "\n",
    "root = nodeIdToGraphObjectMapping[0]\n",
    "\n"
   ],
   "metadata": {
    "collapsed": false
   }
  },
  {
   "cell_type": "markdown",
   "source": [],
   "metadata": {
    "collapsed": false
   }
  },
  {
   "cell_type": "code",
   "execution_count": null,
   "outputs": [],
   "source": [
    "from graphviz import Digraph\n",
    "gra = Digraph()\n",
    "# print(nodeIdToGraphObjectMapping)\n",
    "# str(nodeIdToGraphObjectMapping[0].instructions\n",
    "for (nodeId,node) in nodeIdToGraphObjectMapping.items():\n",
    "    gra.node(str(nodeId),str(\",\".join([str(instr.offset) for instr in node.instructions])))\n",
    "for (nodeId,node) in nodeIdToGraphObjectMapping.items():\n",
    "    for child in node.children:\n",
    "        gra.edge(str(nodeId),str(child.nodeId))\n",
    "#\n",
    "gra"
   ],
   "metadata": {
    "collapsed": false
   }
  },
  {
   "cell_type": "code",
   "execution_count": null,
   "outputs": [],
   "source": [
    "from collections import deque\n",
    "\n",
    "\n",
    "def DFS(currentNode:Node,executionStack:deque,mapVersionedVariables,mapLatestVersionForVariable):\n",
    "    for instr_ in currentNode.instructions:\n",
    "        match str(instr_.opname):\n",
    "            case \"LOAD_CONST\":\n",
    "                executionStack.append(instr.argval)\n",
    "            case \"STORE_FAST\":\n",
    "                var = str(instr.argval)\n",
    "                if var in mapVersionedVariables:\n",
    "                executionStack.pop()"
   ],
   "metadata": {
    "collapsed": false
   }
  },
  {
   "cell_type": "code",
   "execution_count": null,
   "outputs": [],
   "source": [
    "import z3\n",
    "s = z3.Solver()\n",
    "\n",
    "x1 = z3.Int('x@0')\n",
    "\n",
    "# a = b + c\n",
    "\n",
    "def binaryFunc():\n",
    "    x1_ = z3.Int('x@1')\n",
    "\n",
    "\n",
    "def func(x1)"
   ],
   "metadata": {
    "collapsed": false
   }
  },
  {
   "cell_type": "code",
   "execution_count": null,
   "outputs": [],
   "source": [
    " x"
   ],
   "metadata": {
    "collapsed": false
   }
  },
  {
   "cell_type": "code",
   "execution_count": null,
   "outputs": [],
   "source": [],
   "metadata": {
    "collapsed": false
   }
  }
 ],
 "metadata": {
  "kernelspec": {
   "display_name": "Python 3",
   "language": "python",
   "name": "python3"
  },
  "language_info": {
   "codemirror_mode": {
    "name": "ipython",
    "version": 2
   },
   "file_extension": ".py",
   "mimetype": "text/x-python",
   "name": "python",
   "nbconvert_exporter": "python",
   "pygments_lexer": "ipython2",
   "version": "2.7.6"
  }
 },
 "nbformat": 4,
 "nbformat_minor": 0
}
